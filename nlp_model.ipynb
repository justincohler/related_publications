{
 "cells": [
  {
   "cell_type": "code",
   "execution_count": 90,
   "metadata": {
    "collapsed": true
   },
   "outputs": [],
   "source": [
    "# Python Modules\n",
    "import os, math, random, copy, re\n",
    "from collections import Counter, defaultdict\n",
    "\n",
    "# SQL Modules\n",
    "from sqlalchemy.orm import sessionmaker\n",
    "\n",
    "# Scientific Modules\n",
    "import pandas as pd\n",
    "pd.set_option('max_colwidth', 20000)\n",
    "import numpy as np\n",
    "\n",
    "import nltk\n",
    "from nltk.stem import PorterStemmer, WordNetLemmatizer\n",
    "from nltk.tokenize import sent_tokenize, word_tokenize\n",
    "\n",
    "import keras\n",
    "from keras.models import Sequential\n",
    "from keras.layers import Dense\n",
    "from keras.wrappers.scikit_learn import KerasRegressor\n",
    "from keras.preprocessing.text import Tokenizer\n",
    "from keras.preprocessing.sequence import pad_sequences\n",
    "\n",
    "import sklearn\n",
    "from sklearn.model_selection import cross_val_score\n",
    "from sklearn.model_selection import KFold\n",
    "from sklearn.preprocessing import StandardScaler\n",
    "from sklearn.pipeline import Pipeline\n",
    "\n",
    "import gensim\n",
    "from gensim.models import Word2Vec, Doc2Vec\n",
    "from gensim.models.doc2vec import TaggedDocument\n",
    "from gensim.test.utils import common_texts\n",
    "\n",
    "# My Modules\n",
    "import scholar\n",
    "from db import db_connect\n",
    "\n",
    "import warnings\n",
    "warnings.filterwarnings('ignore')"
   ]
  },
  {
   "cell_type": "code",
   "execution_count": 6,
   "metadata": {},
   "outputs": [
    {
     "name": "stdout",
     "output_type": "stream",
     "text": [
      "[nltk_data] Downloading package punkt to\n",
      "[nltk_data]     C:\\Users\\justincohler\\AppData\\Roaming\\nltk_data...\n",
      "[nltk_data]   Package punkt is already up-to-date!\n"
     ]
    },
    {
     "data": {
      "text/plain": [
       "True"
      ]
     },
     "execution_count": 6,
     "metadata": {},
     "output_type": "execute_result"
    }
   ],
   "source": [
    "nltk.download('punkt')"
   ]
  },
  {
   "cell_type": "code",
   "execution_count": 92,
   "metadata": {
    "collapsed": true
   },
   "outputs": [],
   "source": [
    "engine = db_connect()\n",
    "Session = sessionmaker(bind=engine)\n",
    "session = Session()"
   ]
  },
  {
   "cell_type": "code",
   "execution_count": 85,
   "metadata": {
    "collapsed": true
   },
   "outputs": [],
   "source": [
    "papers_df = pd.read_sql_table(\"paper\", engine)"
   ]
  },
  {
   "cell_type": "code",
   "execution_count": 86,
   "metadata": {},
   "outputs": [
    {
     "data": {
      "text/html": [
       "<div>\n",
       "<style scoped>\n",
       "    .dataframe tbody tr th:only-of-type {\n",
       "        vertical-align: middle;\n",
       "    }\n",
       "\n",
       "    .dataframe tbody tr th {\n",
       "        vertical-align: top;\n",
       "    }\n",
       "\n",
       "    .dataframe thead th {\n",
       "        text-align: right;\n",
       "    }\n",
       "</style>\n",
       "<table border=\"1\" class=\"dataframe\">\n",
       "  <thead>\n",
       "    <tr style=\"text-align: right;\">\n",
       "      <th></th>\n",
       "      <th>id</th>\n",
       "      <th>title</th>\n",
       "      <th>abstract</th>\n",
       "      <th>links</th>\n",
       "      <th>search_term</th>\n",
       "    </tr>\n",
       "  </thead>\n",
       "  <tbody>\n",
       "    <tr>\n",
       "      <th>0</th>\n",
       "      <td>1</td>\n",
       "      <td>Scikit-learn: Machine learning in Python</td>\n",
       "      <td>Scikit-learn is a Python module integrating a wide range of state-of-the-art machine learning algorithms for medium-scale supervised and unsupervised problems. This package focuses on bringing machine learning to non-specialists using a general-purpose high-level …</td>\n",
       "      <td>16626</td>\n",
       "      <td>None</td>\n",
       "    </tr>\n",
       "    <tr>\n",
       "      <th>1</th>\n",
       "      <td>2</td>\n",
       "      <td>Pattern recognition and machine learning</td>\n",
       "      <td>1.2 Probability Theory . . . . . . . . . . . . . . . . . . . . . . . . . . 12 1.2.1 Probabilitydensities . . . . . . . . . . . \\n. . . . . . . . . . 17 1.2.2 Expectationsand covariances . . . . . . . . . . . . . . . . 19 1.2.3 Bayesianprobabilities \\n. . . . . . . . . . . . . . . . . . . . 21 1.2.4 The Gaussian distribution . . . . . . . . . . . . . . . . . . 24 1.2.5 …</td>\n",
       "      <td>35819</td>\n",
       "      <td>None</td>\n",
       "    </tr>\n",
       "    <tr>\n",
       "      <th>2</th>\n",
       "      <td>3</td>\n",
       "      <td>Gaussian processes in machine learning</td>\n",
       "      <td>We give a basic introduction to Gaussian Process regression models. We focus on understanding the role of the stochastic process and how it is used to define a distribution over functions. We present the simple equations for incorporating training data and examine …</td>\n",
       "      <td>14392</td>\n",
       "      <td>None</td>\n",
       "    </tr>\n",
       "    <tr>\n",
       "      <th>3</th>\n",
       "      <td>4</td>\n",
       "      <td>Machine learning in automated text categorization</td>\n",
       "      <td>The automated categorization (or classification) of texts into predefined categories has witnessed a booming interest in the last 10 years, due to the increased availability of documents in digital form and the ensuing need to organize them. In the research …</td>\n",
       "      <td>9207</td>\n",
       "      <td>None</td>\n",
       "    </tr>\n",
       "    <tr>\n",
       "      <th>4</th>\n",
       "      <td>5</td>\n",
       "      <td>Machine learning</td>\n",
       "      <td>If computers could loam from experiencetheirusefulness would be increased. When I write a clumsy program for a contemporary computer a thousand runs on the machine do not re-educate my handiwork. On every execution, each time-wastingblemish and crudity, each …</td>\n",
       "      <td>3591</td>\n",
       "      <td>None</td>\n",
       "    </tr>\n",
       "  </tbody>\n",
       "</table>\n",
       "</div>"
      ],
      "text/plain": [
       "   id                                              title  \\\n",
       "0   1           Scikit-learn: Machine learning in Python   \n",
       "1   2           Pattern recognition and machine learning   \n",
       "2   3             Gaussian processes in machine learning   \n",
       "3   4  Machine learning in automated text categorization   \n",
       "4   5                                   Machine learning   \n",
       "\n",
       "                                                                                                                                                                                                                                                                                                                                                                               abstract  \\\n",
       "0                                                                                                             Scikit-learn is a Python module integrating a wide range of state-of-the-art machine learning algorithms for medium-scale supervised and unsupervised problems. This package focuses on bringing machine learning to non-specialists using a general-purpose high-level …   \n",
       "1  1.2 Probability Theory . . . . . . . . . . . . . . . . . . . . . . . . . . 12 1.2.1 Probabilitydensities . . . . . . . . . . . \\n. . . . . . . . . . 17 1.2.2 Expectationsand covariances . . . . . . . . . . . . . . . . 19 1.2.3 Bayesianprobabilities \\n. . . . . . . . . . . . . . . . . . . . 21 1.2.4 The Gaussian distribution . . . . . . . . . . . . . . . . . . 24 1.2.5 …   \n",
       "2                                                                                                            We give a basic introduction to Gaussian Process regression models. We focus on understanding the role of the stochastic process and how it is used to define a distribution over functions. We present the simple equations for incorporating training data and examine …   \n",
       "3                                                                                                                   The automated categorization (or classification) of texts into predefined categories has witnessed a booming interest in the last 10 years, due to the increased availability of documents in digital form and the ensuing need to organize them. In the research …   \n",
       "4                                                                                                                  If computers could loam from experiencetheirusefulness would be increased. When I write a clumsy program for a contemporary computer a thousand runs on the machine do not re-educate my handiwork. On every execution, each time-wastingblemish and crudity, each …   \n",
       "\n",
       "   links search_term  \n",
       "0  16626        None  \n",
       "1  35819        None  \n",
       "2  14392        None  \n",
       "3   9207        None  \n",
       "4   3591        None  "
      ]
     },
     "execution_count": 86,
     "metadata": {},
     "output_type": "execute_result"
    }
   ],
   "source": [
    "papers_df.head()"
   ]
  },
  {
   "cell_type": "code",
   "execution_count": 93,
   "metadata": {
    "collapsed": true
   },
   "outputs": [],
   "source": [
    "def lemmatize(wordnet, sentence):\n",
    "       \n",
    "    sentence = re.sub('[!?:.,;@#$]', '', sentence)\n",
    "    words = nltk.word_tokenize(sentence)\n",
    "    \n",
    "    new_sentence = \"\"\n",
    "    for word in words:\n",
    "        new_sentence += wordnet.lemmatize(word) + \" \"\n",
    "    \n",
    "    return new_sentence.strip()     "
   ]
  },
  {
   "cell_type": "code",
   "execution_count": 94,
   "metadata": {
    "collapsed": true
   },
   "outputs": [],
   "source": [
    "# nltk.download() # Download models, corpus, etc.\n",
    "porter = PorterStemmer()\n",
    "wordnet = WordNetLemmatizer()\n",
    "\n",
    "papers_df[\"cleaned\"] = papers_df.abstract.apply(lambda x: porter.stem(x))\n",
    "papers_df.cleaned = papers_df.cleaned.apply(lambda x: lemmatize(wordnet, x))\n"
   ]
  },
  {
   "cell_type": "code",
   "execution_count": 89,
   "metadata": {},
   "outputs": [
    {
     "data": {
      "text/html": [
       "<div>\n",
       "<style scoped>\n",
       "    .dataframe tbody tr th:only-of-type {\n",
       "        vertical-align: middle;\n",
       "    }\n",
       "\n",
       "    .dataframe tbody tr th {\n",
       "        vertical-align: top;\n",
       "    }\n",
       "\n",
       "    .dataframe thead th {\n",
       "        text-align: right;\n",
       "    }\n",
       "</style>\n",
       "<table border=\"1\" class=\"dataframe\">\n",
       "  <thead>\n",
       "    <tr style=\"text-align: right;\">\n",
       "      <th></th>\n",
       "      <th>id</th>\n",
       "      <th>title</th>\n",
       "      <th>abstract</th>\n",
       "      <th>links</th>\n",
       "      <th>search_term</th>\n",
       "      <th>cleaned</th>\n",
       "    </tr>\n",
       "  </thead>\n",
       "  <tbody>\n",
       "    <tr>\n",
       "      <th>640</th>\n",
       "      <td>652</td>\n",
       "      <td>Toward harnessing user feedback for machine learning</td>\n",
       "      <td>There has been little research into how end users might be able to communicate advice to machine learning systems. If this resource--the users themselves--could somehow work hand-in-hand with machine learning systems, the accuracy of learning systems could be …</td>\n",
       "      <td>104</td>\n",
       "      <td>None</td>\n",
       "      <td>there ha been little research into how end user might be able to communicate advice to machine learning system if this resource -- the user themselves -- could somehow work hand-in-hand with machine learning system the accuracy of learning system could be …</td>\n",
       "    </tr>\n",
       "    <tr>\n",
       "      <th>641</th>\n",
       "      <td>653</td>\n",
       "      <td>Recent advances in predictive (machine) learning</td>\n",
       "      <td>Prediction involves estimating the unknown value of an attribute of a system under study given the values of other measured attributes. In prediction (machine) learning the prediction rule is derived from data consisting of previously solved cases. Most methods for predictive …</td>\n",
       "      <td>100</td>\n",
       "      <td>None</td>\n",
       "      <td>prediction involves estimating the unknown value of an attribute of a system under study given the value of other measured attribute in prediction ( machine ) learning the prediction rule is derived from data consisting of previously solved case most method for predictive …</td>\n",
       "    </tr>\n",
       "    <tr>\n",
       "      <th>642</th>\n",
       "      <td>654</td>\n",
       "      <td>Credit rating by hybrid machine learning techniques</td>\n",
       "      <td>It is very important for financial institutions to develop credit rating systems to help them to decide whether to grant credit to consumers before issuing loans. In literature, statistical and machine learning techniques for credit rating have been extensively studied. Recent studies …</td>\n",
       "      <td>100</td>\n",
       "      <td>None</td>\n",
       "      <td>it is very important for financial institution to develop credit rating system to help them to decide whether to grant credit to consumer before issuing loan in literature statistical and machine learning technique for credit rating have been extensively studied recent study …</td>\n",
       "    </tr>\n",
       "    <tr>\n",
       "      <th>643</th>\n",
       "      <td>655</td>\n",
       "      <td>Machine learning algorithms for damage detection under operational and environmental variability</td>\n",
       "      <td>The goal of this article is to detect structural damage in the presence of operational and environmental variations using vibration-based damage identification procedures. For this purpose, four machine learning algorithms are applied based on the auto-associative neural …</td>\n",
       "      <td>142</td>\n",
       "      <td>None</td>\n",
       "      <td>the goal of this article is to detect structural damage in the presence of operational and environmental variation using vibration-based damage identification procedure for this purpose four machine learning algorithm are applied based on the auto-associative neural …</td>\n",
       "    </tr>\n",
       "    <tr>\n",
       "      <th>644</th>\n",
       "      <td>656</td>\n",
       "      <td>ADVISOR: A machine learning architecture for intelligent tutor construction</td>\n",
       "      <td>We have constructed ADVISOR, a two-agent machine learning architecture for intelligent tutoring systems (ITS). The purpose of this architecture is to centralize the reasoning of an ITS into a single component to allow customization of teaching goals and to simplify …</td>\n",
       "      <td>118</td>\n",
       "      <td>None</td>\n",
       "      <td>we have constructed advisor a two-agent machine learning architecture for intelligent tutoring system ( it ) the purpose of this architecture is to centralize the reasoning of an it into a single component to allow customization of teaching goal and to simplify …</td>\n",
       "    </tr>\n",
       "  </tbody>\n",
       "</table>\n",
       "</div>"
      ],
      "text/plain": [
       "      id  \\\n",
       "640  652   \n",
       "641  653   \n",
       "642  654   \n",
       "643  655   \n",
       "644  656   \n",
       "\n",
       "                                                                                                title  \\\n",
       "640                                              Toward harnessing user feedback for machine learning   \n",
       "641                                                  Recent advances in predictive (machine) learning   \n",
       "642                                               Credit rating by hybrid machine learning techniques   \n",
       "643  Machine learning algorithms for damage detection under operational and environmental variability   \n",
       "644                       ADVISOR: A machine learning architecture for intelligent tutor construction   \n",
       "\n",
       "                                                                                                                                                                                                                                                                                            abstract  \\\n",
       "640                            There has been little research into how end users might be able to communicate advice to machine learning systems. If this resource--the users themselves--could somehow work hand-in-hand with machine learning systems, the accuracy of learning systems could be …   \n",
       "641           Prediction involves estimating the unknown value of an attribute of a system under study given the values of other measured attributes. In prediction (machine) learning the prediction rule is derived from data consisting of previously solved cases. Most methods for predictive …   \n",
       "642  It is very important for financial institutions to develop credit rating systems to help them to decide whether to grant credit to consumers before issuing loans. In literature, statistical and machine learning techniques for credit rating have been extensively studied. Recent studies …   \n",
       "643                The goal of this article is to detect structural damage in the presence of operational and environmental variations using vibration-based damage identification procedures. For this purpose, four machine learning algorithms are applied based on the auto-associative neural …   \n",
       "644                      We have constructed ADVISOR, a two-agent machine learning architecture for intelligent tutoring systems (ITS). The purpose of this architecture is to centralize the reasoning of an ITS into a single component to allow customization of teaching goals and to simplify …   \n",
       "\n",
       "     links search_term  \\\n",
       "640    104        None   \n",
       "641    100        None   \n",
       "642    100        None   \n",
       "643    142        None   \n",
       "644    118        None   \n",
       "\n",
       "                                                                                                                                                                                                                                                                                   cleaned  \n",
       "640                      there ha been little research into how end user might be able to communicate advice to machine learning system if this resource -- the user themselves -- could somehow work hand-in-hand with machine learning system the accuracy of learning system could be …  \n",
       "641     prediction involves estimating the unknown value of an attribute of a system under study given the value of other measured attribute in prediction ( machine ) learning the prediction rule is derived from data consisting of previously solved case most method for predictive …  \n",
       "642  it is very important for financial institution to develop credit rating system to help them to decide whether to grant credit to consumer before issuing loan in literature statistical and machine learning technique for credit rating have been extensively studied recent study …  \n",
       "643           the goal of this article is to detect structural damage in the presence of operational and environmental variation using vibration-based damage identification procedure for this purpose four machine learning algorithm are applied based on the auto-associative neural …  \n",
       "644                we have constructed advisor a two-agent machine learning architecture for intelligent tutoring system ( it ) the purpose of this architecture is to centralize the reasoning of an it into a single component to allow customization of teaching goal and to simplify …  "
      ]
     },
     "execution_count": 89,
     "metadata": {},
     "output_type": "execute_result"
    }
   ],
   "source": [
    "papers_df.tail()"
   ]
  },
  {
   "cell_type": "code",
   "execution_count": 96,
   "metadata": {},
   "outputs": [
    {
     "data": {
      "text/plain": [
       "(645, 6)"
      ]
     },
     "execution_count": 96,
     "metadata": {},
     "output_type": "execute_result"
    }
   ],
   "source": [
    "papers_df.shape"
   ]
  },
  {
   "cell_type": "code",
   "execution_count": 115,
   "metadata": {},
   "outputs": [],
   "source": [
    "# Attribution to https://towardsdatascience.com/machine-learning-word-embedding-sentiment-classification-using-keras-b83c28087456\n",
    "\n",
    "X_train = papers_df.loc[:400, 'cleaned'].values\n",
    "y_train = papers_df.loc[:400, 'links'].values\n",
    "X_test = papers_df.loc[400:, 'cleaned'].values\n",
    "y_test = papers_df.loc[400:, 'links'].values"
   ]
  },
  {
   "cell_type": "code",
   "execution_count": 118,
   "metadata": {},
   "outputs": [],
   "source": [
    "tokenizer = Tokenizer()\n",
    "all_abstracts = np.hstack((X_train, X_test))\n",
    "tokenizer.fit_on_texts(all_abstracts)\n",
    "\n",
    "max_length = max([len(s.split()) for s in all_abstracts])\n",
    "\n",
    "vocab_size = len(tokenizer.word_index) + 1\n",
    "\n",
    "# Tokenize\n",
    "X_train = tokenizer.texts_to_sequences(X_train)\n",
    "X_test = tokenizer.texts_to_sequences(X_test)\n",
    "\n",
    "# Pad\n",
    "X_train = pad_sequences(X_train, maxlen=max_length, padding='post')\n",
    "X_test = pad_sequences(X_test, maxlen=max_length, padding='post')"
   ]
  },
  {
   "cell_type": "markdown",
   "metadata": {},
   "source": [
    "# Create Sentence Embedding From Training Corpus"
   ]
  },
  {
   "cell_type": "code",
   "execution_count": 13,
   "metadata": {},
   "outputs": [],
   "source": [
    "\n",
    "def tag_documents(row):\n",
    "    return TaggedDocument(row[\"cleaned\"], row.index)\n",
    "\n",
    "documents = papers_df.apply(lambda row: tag_documents(row), axis=1)\n"
   ]
  },
  {
   "cell_type": "code",
   "execution_count": 18,
   "metadata": {},
   "outputs": [],
   "source": [
    "embedding_model = Doc2Vec(documents, vector_size=5, window=2, min_count=1, workers=4)"
   ]
  },
  {
   "cell_type": "code",
   "execution_count": 75,
   "metadata": {},
   "outputs": [],
   "source": [
    "def to_abstract_vectors(x):\n",
    "    words = word_tokenize(x)\n",
    "    return embedding_model.infer_vector(words)\n",
    "    \n",
    "papers_df[\"abstract_vector\"] = papers_df.cleaned.apply(lambda x: to_abstract_vectors(x))\n",
    "\n",
    "papers_df[\"abstract_vector_0\"] = papers_df.abstract_vector.apply(lambda x: x[0])\n",
    "papers_df[\"abstract_vector_1\"] = papers_df.abstract_vector.apply(lambda x: x[1])\n",
    "papers_df[\"abstract_vector_2\"] = papers_df.abstract_vector.apply(lambda x: x[2])\n",
    "papers_df[\"abstract_vector_3\"] = papers_df.abstract_vector.apply(lambda x: x[3])\n",
    "papers_df[\"abstract_vector_4\"] = papers_df.abstract_vector.apply(lambda x: x[4])\n",
    "\n"
   ]
  },
  {
   "cell_type": "code",
   "execution_count": null,
   "metadata": {
    "collapsed": true
   },
   "outputs": [],
   "source": []
  },
  {
   "cell_type": "code",
   "execution_count": 76,
   "metadata": {
    "scrolled": true
   },
   "outputs": [
    {
     "data": {
      "text/html": [
       "<div>\n",
       "<style scoped>\n",
       "    .dataframe tbody tr th:only-of-type {\n",
       "        vertical-align: middle;\n",
       "    }\n",
       "\n",
       "    .dataframe tbody tr th {\n",
       "        vertical-align: top;\n",
       "    }\n",
       "\n",
       "    .dataframe thead th {\n",
       "        text-align: right;\n",
       "    }\n",
       "</style>\n",
       "<table border=\"1\" class=\"dataframe\">\n",
       "  <thead>\n",
       "    <tr style=\"text-align: right;\">\n",
       "      <th></th>\n",
       "      <th>id</th>\n",
       "      <th>title</th>\n",
       "      <th>abstract</th>\n",
       "      <th>links</th>\n",
       "      <th>search_term</th>\n",
       "      <th>cleaned</th>\n",
       "      <th>abstract_vector</th>\n",
       "      <th>abstract_vector_0</th>\n",
       "      <th>abstract_vector_1</th>\n",
       "      <th>abstract_vector_2</th>\n",
       "      <th>abstract_vector_3</th>\n",
       "      <th>abstract_vector_4</th>\n",
       "    </tr>\n",
       "  </thead>\n",
       "  <tbody>\n",
       "    <tr>\n",
       "      <th>640</th>\n",
       "      <td>652</td>\n",
       "      <td>Toward harnessing user feedback for machine learning</td>\n",
       "      <td>There has been little research into how end users might be able to communicate advice to machine learning systems. If this resource--the users themselves--could somehow work hand-in-hand with machine learning systems, the accuracy of learning systems could be …</td>\n",
       "      <td>104</td>\n",
       "      <td>None</td>\n",
       "      <td>there ha been little research into how end user might be able to communicate advice to machine learning system if this resource -- the user themselves -- could somehow work hand-in-hand with machine learning system the accuracy of learning system could be …</td>\n",
       "      <td>[-0.017252007, -0.099757805, -0.09665446, -0.005327185, 0.050420996]</td>\n",
       "      <td>-0.017252</td>\n",
       "      <td>-0.099758</td>\n",
       "      <td>-0.096654</td>\n",
       "      <td>-0.005327</td>\n",
       "      <td>0.050421</td>\n",
       "    </tr>\n",
       "    <tr>\n",
       "      <th>641</th>\n",
       "      <td>653</td>\n",
       "      <td>Recent advances in predictive (machine) learning</td>\n",
       "      <td>Prediction involves estimating the unknown value of an attribute of a system under study given the values of other measured attributes. In prediction (machine) learning the prediction rule is derived from data consisting of previously solved cases. Most methods for predictive …</td>\n",
       "      <td>100</td>\n",
       "      <td>None</td>\n",
       "      <td>prediction involves estimating the unknown value of an attribute of a system under study given the value of other measured attribute in prediction ( machine ) learning the prediction rule is derived from data consisting of previously solved case most method for predictive …</td>\n",
       "      <td>[-0.069251284, -0.09920634, 0.027527021, 0.11843491, -0.13849878]</td>\n",
       "      <td>-0.069251</td>\n",
       "      <td>-0.099206</td>\n",
       "      <td>0.027527</td>\n",
       "      <td>0.118435</td>\n",
       "      <td>-0.138499</td>\n",
       "    </tr>\n",
       "    <tr>\n",
       "      <th>642</th>\n",
       "      <td>654</td>\n",
       "      <td>Credit rating by hybrid machine learning techniques</td>\n",
       "      <td>It is very important for financial institutions to develop credit rating systems to help them to decide whether to grant credit to consumers before issuing loans. In literature, statistical and machine learning techniques for credit rating have been extensively studied. Recent studies …</td>\n",
       "      <td>100</td>\n",
       "      <td>None</td>\n",
       "      <td>it is very important for financial institution to develop credit rating system to help them to decide whether to grant credit to consumer before issuing loan in literature statistical and machine learning technique for credit rating have been extensively studied recent study …</td>\n",
       "      <td>[0.052388754, -0.046408102, 0.030473558, 0.05587802, -0.003418506]</td>\n",
       "      <td>0.052389</td>\n",
       "      <td>-0.046408</td>\n",
       "      <td>0.030474</td>\n",
       "      <td>0.055878</td>\n",
       "      <td>-0.003419</td>\n",
       "    </tr>\n",
       "    <tr>\n",
       "      <th>643</th>\n",
       "      <td>655</td>\n",
       "      <td>Machine learning algorithms for damage detection under operational and environmental variability</td>\n",
       "      <td>The goal of this article is to detect structural damage in the presence of operational and environmental variations using vibration-based damage identification procedures. For this purpose, four machine learning algorithms are applied based on the auto-associative neural …</td>\n",
       "      <td>142</td>\n",
       "      <td>None</td>\n",
       "      <td>the goal of this article is to detect structural damage in the presence of operational and environmental variation using vibration-based damage identification procedure for this purpose four machine learning algorithm are applied based on the auto-associative neural …</td>\n",
       "      <td>[-0.06589643, -0.070495375, -0.0664193, -0.058899924, -0.12803854]</td>\n",
       "      <td>-0.065896</td>\n",
       "      <td>-0.070495</td>\n",
       "      <td>-0.066419</td>\n",
       "      <td>-0.058900</td>\n",
       "      <td>-0.128039</td>\n",
       "    </tr>\n",
       "    <tr>\n",
       "      <th>644</th>\n",
       "      <td>656</td>\n",
       "      <td>ADVISOR: A machine learning architecture for intelligent tutor construction</td>\n",
       "      <td>We have constructed ADVISOR, a two-agent machine learning architecture for intelligent tutoring systems (ITS). The purpose of this architecture is to centralize the reasoning of an ITS into a single component to allow customization of teaching goals and to simplify …</td>\n",
       "      <td>118</td>\n",
       "      <td>None</td>\n",
       "      <td>we have constructed advisor a two-agent machine learning architecture for intelligent tutoring system ( it ) the purpose of this architecture is to centralize the reasoning of an it into a single component to allow customization of teaching goal and to simplify …</td>\n",
       "      <td>[0.045146883, -0.06757521, -0.08072267, 0.0010922585, -0.031782392]</td>\n",
       "      <td>0.045147</td>\n",
       "      <td>-0.067575</td>\n",
       "      <td>-0.080723</td>\n",
       "      <td>0.001092</td>\n",
       "      <td>-0.031782</td>\n",
       "    </tr>\n",
       "  </tbody>\n",
       "</table>\n",
       "</div>"
      ],
      "text/plain": [
       "      id  \\\n",
       "640  652   \n",
       "641  653   \n",
       "642  654   \n",
       "643  655   \n",
       "644  656   \n",
       "\n",
       "                                                                                                title  \\\n",
       "640                                              Toward harnessing user feedback for machine learning   \n",
       "641                                                  Recent advances in predictive (machine) learning   \n",
       "642                                               Credit rating by hybrid machine learning techniques   \n",
       "643  Machine learning algorithms for damage detection under operational and environmental variability   \n",
       "644                       ADVISOR: A machine learning architecture for intelligent tutor construction   \n",
       "\n",
       "                                                                                                                                                                                                                                                                                            abstract  \\\n",
       "640                            There has been little research into how end users might be able to communicate advice to machine learning systems. If this resource--the users themselves--could somehow work hand-in-hand with machine learning systems, the accuracy of learning systems could be …   \n",
       "641           Prediction involves estimating the unknown value of an attribute of a system under study given the values of other measured attributes. In prediction (machine) learning the prediction rule is derived from data consisting of previously solved cases. Most methods for predictive …   \n",
       "642  It is very important for financial institutions to develop credit rating systems to help them to decide whether to grant credit to consumers before issuing loans. In literature, statistical and machine learning techniques for credit rating have been extensively studied. Recent studies …   \n",
       "643                The goal of this article is to detect structural damage in the presence of operational and environmental variations using vibration-based damage identification procedures. For this purpose, four machine learning algorithms are applied based on the auto-associative neural …   \n",
       "644                      We have constructed ADVISOR, a two-agent machine learning architecture for intelligent tutoring systems (ITS). The purpose of this architecture is to centralize the reasoning of an ITS into a single component to allow customization of teaching goals and to simplify …   \n",
       "\n",
       "     links search_term  \\\n",
       "640    104        None   \n",
       "641    100        None   \n",
       "642    100        None   \n",
       "643    142        None   \n",
       "644    118        None   \n",
       "\n",
       "                                                                                                                                                                                                                                                                                   cleaned  \\\n",
       "640                      there ha been little research into how end user might be able to communicate advice to machine learning system if this resource -- the user themselves -- could somehow work hand-in-hand with machine learning system the accuracy of learning system could be …   \n",
       "641     prediction involves estimating the unknown value of an attribute of a system under study given the value of other measured attribute in prediction ( machine ) learning the prediction rule is derived from data consisting of previously solved case most method for predictive …   \n",
       "642  it is very important for financial institution to develop credit rating system to help them to decide whether to grant credit to consumer before issuing loan in literature statistical and machine learning technique for credit rating have been extensively studied recent study …   \n",
       "643           the goal of this article is to detect structural damage in the presence of operational and environmental variation using vibration-based damage identification procedure for this purpose four machine learning algorithm are applied based on the auto-associative neural …   \n",
       "644                we have constructed advisor a two-agent machine learning architecture for intelligent tutoring system ( it ) the purpose of this architecture is to centralize the reasoning of an it into a single component to allow customization of teaching goal and to simplify …   \n",
       "\n",
       "                                                          abstract_vector  \\\n",
       "640  [-0.017252007, -0.099757805, -0.09665446, -0.005327185, 0.050420996]   \n",
       "641     [-0.069251284, -0.09920634, 0.027527021, 0.11843491, -0.13849878]   \n",
       "642    [0.052388754, -0.046408102, 0.030473558, 0.05587802, -0.003418506]   \n",
       "643    [-0.06589643, -0.070495375, -0.0664193, -0.058899924, -0.12803854]   \n",
       "644   [0.045146883, -0.06757521, -0.08072267, 0.0010922585, -0.031782392]   \n",
       "\n",
       "     abstract_vector_0  abstract_vector_1  abstract_vector_2  \\\n",
       "640          -0.017252          -0.099758          -0.096654   \n",
       "641          -0.069251          -0.099206           0.027527   \n",
       "642           0.052389          -0.046408           0.030474   \n",
       "643          -0.065896          -0.070495          -0.066419   \n",
       "644           0.045147          -0.067575          -0.080723   \n",
       "\n",
       "     abstract_vector_3  abstract_vector_4  \n",
       "640          -0.005327           0.050421  \n",
       "641           0.118435          -0.138499  \n",
       "642           0.055878          -0.003419  \n",
       "643          -0.058900          -0.128039  \n",
       "644           0.001092          -0.031782  "
      ]
     },
     "execution_count": 76,
     "metadata": {},
     "output_type": "execute_result"
    }
   ],
   "source": [
    "papers_df.tail()"
   ]
  },
  {
   "cell_type": "markdown",
   "metadata": {},
   "source": [
    "# Create Model"
   ]
  },
  {
   "cell_type": "code",
   "execution_count": 77,
   "metadata": {
    "collapsed": true
   },
   "outputs": [],
   "source": [
    "def split_XY(df):\n",
    "    Y = df.links\n",
    "    X = df[[\"abstract_vector_0\", \"abstract_vector_1\", \"abstract_vector_2\", \"abstract_vector_3\", \"abstract_vector_4\"]]\n",
    "    return X, Y"
   ]
  },
  {
   "cell_type": "code",
   "execution_count": 79,
   "metadata": {},
   "outputs": [
    {
     "data": {
      "text/plain": [
       "(645, 5)"
      ]
     },
     "execution_count": 79,
     "metadata": {},
     "output_type": "execute_result"
    }
   ],
   "source": [
    "X, Y = split_XY(papers_df)\n",
    "X.shape"
   ]
  },
  {
   "cell_type": "code",
   "execution_count": 83,
   "metadata": {
    "collapsed": true
   },
   "outputs": [],
   "source": [
    "def baseline_model():\n",
    "    model = Sequential()\n",
    "    model.add(Dense(5, input_dim=5, kernel_initializer='normal', activation='relu'))\n",
    "    model.add(Dense(64, activation='relu'))\n",
    "    model.add(Dense(32, activation='relu'))\n",
    "    model.add(Dense(16, activation='relu'))\n",
    "    model.add(Dense(1, kernel_initializer='normal'))\n",
    "    \n",
    "    model.compile(loss='mean_squared_error', optimizer='adam')\n",
    "    return model"
   ]
  },
  {
   "cell_type": "code",
   "execution_count": 84,
   "metadata": {},
   "outputs": [
    {
     "name": "stdout",
     "output_type": "stream",
     "text": [
      "Results: -8517819.90 (20604223.79) MSE\n"
     ]
    }
   ],
   "source": [
    "seed = 42\n",
    "np.random.seed(seed)\n",
    "\n",
    "estimator = KerasRegressor(build_fn=baseline_model, epochs=100, batch_size=5, verbose=0)\n",
    "\n",
    "kfold = KFold(n_splits=10, random_state=seed)\n",
    "results = cross_val_score(estimator, X, Y, cv=kfold)\n",
    "print(\"Results: %.2f (%.2f) MSE\" % (results.mean(), results.std()))"
   ]
  }
 ],
 "metadata": {
  "kernelspec": {
   "display_name": "Python 3",
   "language": "python",
   "name": "python3"
  },
  "language_info": {
   "codemirror_mode": {
    "name": "ipython",
    "version": 3
   },
   "file_extension": ".py",
   "mimetype": "text/x-python",
   "name": "python",
   "nbconvert_exporter": "python",
   "pygments_lexer": "ipython3",
   "version": "3.6.3"
  }
 },
 "nbformat": 4,
 "nbformat_minor": 2
}
